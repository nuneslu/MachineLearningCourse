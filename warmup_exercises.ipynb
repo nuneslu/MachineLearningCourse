{
  "nbformat": 4,
  "nbformat_minor": 0,
  "metadata": {
    "colab": {
      "name": "warmup_exercises.ipynb",
      "provenance": [],
      "authorship_tag": "ABX9TyOPZ6/sWsMy20yixd49CSdo",
      "include_colab_link": true
    },
    "kernelspec": {
      "name": "python3",
      "display_name": "Python 3"
    }
  },
  "cells": [
    {
      "cell_type": "markdown",
      "metadata": {
        "id": "view-in-github",
        "colab_type": "text"
      },
      "source": [
        "<a href=\"https://colab.research.google.com/github/nuneslu/MachineLearningCourse/blob/main/warmup_exercises.ipynb\" target=\"_parent\"><img src=\"https://colab.research.google.com/assets/colab-badge.svg\" alt=\"Open In Colab\"/></a>"
      ]
    },
    {
      "cell_type": "markdown",
      "metadata": {
        "id": "KxaQLsqY58xV"
      },
      "source": [
        "**Data preparation and Visualization**\n",
        "\n",
        "---\n",
        "\n",
        "This first exercise will be about data preparation and visualization. When working with machine learning, the preprocesing and organization of your data is one of the most important.\n",
        "\n",
        "In this exercise we will work with tabular and image data, learn some basic preprocessing and data cleaning operations and visualization tools."
      ]
    },
    {
      "cell_type": "code",
      "metadata": {
        "id": "seTbUykX_daF"
      },
      "source": [
        "import pandas as pd\n"
      ],
      "execution_count": 1,
      "outputs": []
    }
  ]
}